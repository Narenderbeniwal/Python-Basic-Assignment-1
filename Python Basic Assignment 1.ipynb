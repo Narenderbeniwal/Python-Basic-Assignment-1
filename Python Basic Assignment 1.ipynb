{
 "cells": [
  {
   "cell_type": "code",
   "execution_count": null,
   "metadata": {},
   "outputs": [],
   "source": []
  },
  {
   "cell_type": "code",
   "execution_count": null,
   "metadata": {},
   "outputs": [],
   "source": []
  },
  {
   "cell_type": "raw",
   "metadata": {},
   "source": [
    "1. In the below elements which of them are values or an expression? eg:- values can be integer or string and expressions will be mathematical operators.\n",
    "* \n",
    "'hello'\n",
    "-87.8\n",
    "- \n",
    "/ \n",
    "+\t\n",
    "6 \n",
    "\n",
    "2. What is the difference between string and variable?\n",
    "\n",
    "3. Describe three different data types.\n",
    "\n",
    "4. What is an expression made up of? What do all expressions do?\n",
    "5. This assignment statements, like spam = 10. What is the difference between an expression and a statement?\n",
    "6. After running the following code, what does the variable bacon contain?\n",
    "bacon = 22\n",
    "bacon + 1\n",
    "\n",
    "7. What should the values of the following two terms be?\n",
    "'spam' + 'spamspam'\n",
    "'spam' * 3\n",
    "\n",
    "8. Why is eggs a valid variable name while 100 is invalid?\n",
    "9. What three functions can be used to get the integer, floating-point number, or string version of a value?\n",
    "10. Why does this expression cause an error? How can you fix it?\n",
    "'I have eaten ' + 99 + ' burritos.'\n",
    "///"
   ]
  },
  {
   "cell_type": "raw",
   "metadata": {},
   "source": [
    "Q 1. In the below elements which of them are values or an expression? eg:- values can be integer or string and expressions will be mathematical operators.\n",
    "* \n",
    "'hello'\n",
    "-87.8\n",
    "- \n",
    "/ \n",
    "+\n",
    "6 \n",
    "## Solution \n",
    "Values- 'hello',-87.8,8\n",
    "expression- *,-,/,+"
   ]
  },
  {
   "cell_type": "raw",
   "metadata": {},
   "source": [
    "\n",
    "Q 2.  What is the difference between string and variable?\n",
    "Solition. 1. A Variable is a store of information, and a String is a type of information you would store in a Variable\n",
    "          2. A String is usually words, enclosed with \"\" Eg String x =\"Welcome to SoloLearn\" X is the Variable, and we declared it as a String, use the single = to assign the text to it."
   ]
  },
  {
   "cell_type": "raw",
   "metadata": {},
   "source": [
    "Q. 3. Describe three different data types.\n",
    "Solution: Data Type: Data type is a data storage format that can contain a specific type or range of values. Below are three Data types\n",
    "1. String (or str or text). Used for a combination of any characters that appear on a keyboard, such as letters, numbers and symbols.\n",
    "2. Character (or char). Used for single letters.\n",
    "3. Integer (or int). Used for whole numbers."
   ]
  },
  {
   "cell_type": "raw",
   "metadata": {},
   "source": [
    "Q 4.  What is an expression made up of? What do all expressions do?\n",
    "Sol. An expression is a combination of values, variables, operators, and calls to functions. Expressions need to be evaluated.\n",
    "The evaluation of an expression produces a value, which is why expressions can appear on the right hand side of assignment statements. A value all by itself is a simple expression, and so is a variable. Evaluating a variable gives the value that the variable refers to.\n",
    "Q What do all expressions do?\n",
    "All expressions evaluate (that is, reduce) to a single value."
   ]
  },
  {
   "cell_type": "raw",
   "metadata": {},
   "source": [
    "Q 5. This assignment statements, like spam = 10. What is the difference between an expression and a statement?\n",
    "Sol: A statement performs some action such as printing values, looping, or if statement. On the other hand, expressions also produce values and we can assign these values to new variables.\n",
    "-If you can print it, or assign it to a variable, it’s an expression. If you can’t, it’s a statement.\n",
    " examples of expressions:\n",
    " 2 + 2 \n",
    "3 * 7 \n",
    "1 + 2 + 3 * (8 ** 9) - sqrt(4.0) \n",
    "min(2, 22) \n",
    "examples of statements:\n",
    "if CONDITION: \n",
    "elif CONDITION: \n",
    "else:\n"
   ]
  },
  {
   "cell_type": "raw",
   "metadata": {},
   "source": [
    "Q 6. After running the following code, what does the variable bacon contain?\n",
    "bacon = 22\n",
    "bacon + 1\n",
    "Sol:23\n"
   ]
  },
  {
   "cell_type": "code",
   "execution_count": 1,
   "metadata": {},
   "outputs": [
    {
     "data": {
      "text/plain": [
       "23"
      ]
     },
     "execution_count": 1,
     "metadata": {},
     "output_type": "execute_result"
    }
   ],
   "source": [
    "bacon = 22\n",
    "bacon + 1"
   ]
  },
  {
   "cell_type": "raw",
   "metadata": {},
   "source": [
    "Q 7. What should the values of the following two terms be?\n",
    "'spam' + 'spamspam'\n",
    "'spam' * 3\n",
    "Sol: 'spamspamspam'"
   ]
  },
  {
   "cell_type": "code",
   "execution_count": 4,
   "metadata": {},
   "outputs": [
    {
     "data": {
      "text/plain": [
       "'spamspamspam'"
      ]
     },
     "execution_count": 4,
     "metadata": {},
     "output_type": "execute_result"
    }
   ],
   "source": [
    "'spam' + 'spamspam'\n",
    "'spam' * 3"
   ]
  },
  {
   "cell_type": "raw",
   "metadata": {},
   "source": [
    "Q. 8 Why is eggs a valid variable name while 100 is invalid?\n",
    "Sol: Because variable names cannot begin with a number.\n",
    "\n"
   ]
  },
  {
   "cell_type": "raw",
   "metadata": {},
   "source": [
    "Q 9 What three functions can be used to get the integer, floating-point number, or string version of a value?\n",
    "sol: The int(), float(), and str() functions will evaluate to the integer, floating-point number, and string versions of the value passed to them.\n"
   ]
  },
  {
   "cell_type": "raw",
   "metadata": {},
   "source": [
    "Q 10 Why does this expression cause an error? How can you fix it?\n",
    "'I have eaten ' + 99 + ' burritos.'\n",
    "Sol: ' The expression causes an error because 99 is an integer, and only strings can be concatenated to other strings with the + operator.\n",
    ")\n",
    "'I have eaten ' + '99' + ' burritos.'\n",
    "'I have eaten ' + str(99) + ' burritos.'"
   ]
  },
  {
   "cell_type": "code",
   "execution_count": 10,
   "metadata": {},
   "outputs": [
    {
     "data": {
      "text/plain": [
       "'I have eaten 99 burritos.'"
      ]
     },
     "execution_count": 10,
     "metadata": {},
     "output_type": "execute_result"
    }
   ],
   "source": [
    "'I have eaten ' + str(99) + ' burritos.'"
   ]
  },
  {
   "cell_type": "code",
   "execution_count": 11,
   "metadata": {},
   "outputs": [
    {
     "ename": "TypeError",
     "evalue": "can only concatenate str (not \"int\") to str",
     "output_type": "error",
     "traceback": [
      "\u001b[1;31m---------------------------------------------------------------------------\u001b[0m",
      "\u001b[1;31mTypeError\u001b[0m                                 Traceback (most recent call last)",
      "\u001b[1;32m<ipython-input-11-d24137131a5c>\u001b[0m in \u001b[0;36m<module>\u001b[1;34m\u001b[0m\n\u001b[1;32m----> 1\u001b[1;33m \u001b[1;34m'I have eaten '\u001b[0m \u001b[1;33m+\u001b[0m \u001b[1;36m99\u001b[0m \u001b[1;33m+\u001b[0m \u001b[1;34m' burritos.'\u001b[0m\u001b[1;33m\u001b[0m\u001b[1;33m\u001b[0m\u001b[0m\n\u001b[0m",
      "\u001b[1;31mTypeError\u001b[0m: can only concatenate str (not \"int\") to str"
     ]
    }
   ],
   "source": [
    "'I have eaten ' + 99 + ' burritos.'"
   ]
  },
  {
   "cell_type": "code",
   "execution_count": null,
   "metadata": {},
   "outputs": [],
   "source": []
  }
 ],
 "metadata": {
  "kernelspec": {
   "display_name": "Python 3",
   "language": "python",
   "name": "python3"
  },
  "language_info": {
   "codemirror_mode": {
    "name": "ipython",
    "version": 3
   },
   "file_extension": ".py",
   "mimetype": "text/x-python",
   "name": "python",
   "nbconvert_exporter": "python",
   "pygments_lexer": "ipython3",
   "version": "3.8.5"
  }
 },
 "nbformat": 4,
 "nbformat_minor": 4
}
